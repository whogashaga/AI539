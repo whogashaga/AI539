{
 "cells": [
  {
   "cell_type": "markdown",
   "id": "25618b64-9024-49e8-8a18-4f32399e9ca7",
   "metadata": {},
   "source": [
    "#### A study analyzes the data on law school admission, and the goal is to examine the correlation between LSAT score and the first year GPA. For each of 15 law schools, we have the pair of data points (LSAT, GPA) as<br>(576, 3.93), (580, 3.07), (653, 3.12)<br>(635, 3.30), (555, 3.00), (575, 2.74)<br>(558, 2.81), (661, 3.43), (545, 2.76)<br>(578, 3.03), (651, 3.36), (572, 2.88)<br>(666, 3.44), (605, 3.13), (594, 2.96)<br><br> (a)Calculate the correlation coefficient between LSAT and GPA."
   ]
  },
  {
   "cell_type": "markdown",
   "id": "fec093c9-86d9-4940-958c-a9edbe18815a",
   "metadata": {},
   "source": [
    "#### b) Pick the programming language of your choice, and use bootstrapping to estimate the standard deviation of the correlation coefficient. Use *B* = 1000 bootstrap resamples. Also plot a histogram of the results (use 20 bins)."
   ]
  },
  {
   "cell_type": "code",
   "execution_count": 43,
   "id": "3447c327-9d47-4511-90f0-f9dbf3dfdc36",
   "metadata": {},
   "outputs": [],
   "source": [
    "import numpy as np\n",
    "import pandas as pd\n",
    "from matplotlib.pyplot import subplots\n",
    "import statsmodels.api as sm\n",
    "from ISLP import load_data\n",
    "from ISLP.models import (ModelSpec as MS,\n",
    "                         summarize)\n",
    "from ISLP import confusion_table\n",
    "from ISLP.models import contrast\n",
    "from sklearn.discriminant_analysis import \\\n",
    "     (LinearDiscriminantAnalysis as LDA,\n",
    "      QuadraticDiscriminantAnalysis as QDA)\n",
    "from sklearn.naive_bayes import GaussianNB\n",
    "from sklearn.neighbors import KNeighborsClassifier\n",
    "from sklearn.preprocessing import StandardScaler\n",
    "from sklearn.model_selection import train_test_split\n",
    "from sklearn.linear_model import LogisticRegression"
   ]
  },
  {
   "cell_type": "code",
   "execution_count": 44,
   "id": "3029711a-63ef-4d9d-aef8-cb62e6a3935d",
   "metadata": {},
   "outputs": [
    {
     "name": "stdout",
     "output_type": "stream",
     "text": [
      "= = = = = = = = = = = Coefficient = = = = = = = = = = =\n",
      "β0: -0.7775994625128763 , β1: 1.2088079596901309\n"
     ]
    }
   ],
   "source": [
    "data = pd.read_csv('BinaryData.csv')\n",
    "# print(data)\n",
    "X_train = pd.DataFrame({'intercept': np.ones(train.shape[0]), 'x': data['x']})\n",
    "# print(X_train)\n",
    "y_train = (data.y == 1)\n",
    "glm_train = sm.GLM(y_train, X_train, family=sm.families.Binomial())\n",
    "results = glm_train.fit()\n",
    "print(\"= = = = = = = = = = = Coefficient = = = = = = = = = = =\")\n",
    "beta_0, beta_1 = results.params.intercept, results.params.x\n",
    "print(\"β0:\", beta_0, \", β1:\", beta_1)"
   ]
  }
 ],
 "metadata": {
  "kernelspec": {
   "display_name": "Python 3 (ipykernel)",
   "language": "python",
   "name": "python3"
  },
  "language_info": {
   "codemirror_mode": {
    "name": "ipython",
    "version": 3
   },
   "file_extension": ".py",
   "mimetype": "text/x-python",
   "name": "python",
   "nbconvert_exporter": "python",
   "pygments_lexer": "ipython3",
   "version": "3.11.7"
  }
 },
 "nbformat": 4,
 "nbformat_minor": 5
}
