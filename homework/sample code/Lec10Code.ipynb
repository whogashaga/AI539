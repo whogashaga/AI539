{
 "cells": [
  {
   "cell_type": "markdown",
   "id": "a0dea78b",
   "metadata": {},
   "source": [
    "# Basics of cross validation\n",
    "Importing the required libraries "
   ]
  },
  {
   "cell_type": "code",
   "execution_count": 1,
   "id": "8513fbdf",
   "metadata": {},
   "outputs": [],
   "source": [
    "import numpy as np\n",
    "import statsmodels.api as sm\n",
    "from ISLP import load_data\n",
    "from ISLP.models import (ModelSpec as MS,\n",
    "                         summarize,\n",
    "                         poly)\n",
    "from sklearn.model_selection import train_test_split"
   ]
  },
  {
   "cell_type": "markdown",
   "id": "b0436a8e",
   "metadata": {},
   "source": [
    "Also some packages required for this lab: "
   ]
  },
  {
   "cell_type": "code",
   "execution_count": 2,
   "id": "08b673d9",
   "metadata": {},
   "outputs": [],
   "source": [
    "from functools import partial\n",
    "from sklearn.model_selection import \\\n",
    "     (cross_validate,\n",
    "      KFold,\n",
    "      ShuffleSplit)\n",
    "from sklearn.base import clone\n",
    "from ISLP.models import sklearn_sm"
   ]
  },
  {
   "cell_type": "markdown",
   "id": "5ab73b55",
   "metadata": {},
   "source": [
    "# Validation Set Approach\n",
    "Let's repeat the mpg/horsepower example "
   ]
  },
  {
   "cell_type": "code",
   "execution_count": 10,
   "id": "4ebcb957",
   "metadata": {},
   "outputs": [
    {
     "name": "stdout",
     "output_type": "stream",
     "text": [
      "      mpg  cylinders  displacement  horsepower  weight  acceleration  year  \\\n",
      "0    18.0          8         307.0         130    3504          12.0    70   \n",
      "1    15.0          8         350.0         165    3693          11.5    70   \n",
      "2    18.0          8         318.0         150    3436          11.0    70   \n",
      "3    16.0          8         304.0         150    3433          12.0    70   \n",
      "4    17.0          8         302.0         140    3449          10.5    70   \n",
      "..    ...        ...           ...         ...     ...           ...   ...   \n",
      "387  27.0          4         140.0          86    2790          15.6    82   \n",
      "388  44.0          4          97.0          52    2130          24.6    82   \n",
      "389  32.0          4         135.0          84    2295          11.6    82   \n",
      "390  28.0          4         120.0          79    2625          18.6    82   \n",
      "391  31.0          4         119.0          82    2720          19.4    82   \n",
      "\n",
      "     origin                       name  \n",
      "0         1  chevrolet chevelle malibu  \n",
      "1         1          buick skylark 320  \n",
      "2         1         plymouth satellite  \n",
      "3         1              amc rebel sst  \n",
      "4         1                ford torino  \n",
      "..      ...                        ...  \n",
      "387       1            ford mustang gl  \n",
      "388       2                  vw pickup  \n",
      "389       1              dodge rampage  \n",
      "390       1                ford ranger  \n",
      "391       1                 chevy s-10  \n",
      "\n",
      "[392 rows x 9 columns]\n"
     ]
    }
   ],
   "source": [
    "Auto = load_data('Auto')\n",
    "print(Auto)\n",
    "Auto_train, Auto_valid = train_test_split(Auto,\n",
    "                                         test_size=196,\n",
    "                                         random_state=0)"
   ]
  },
  {
   "cell_type": "markdown",
   "id": "1a3bea84",
   "metadata": {},
   "source": [
    "Let's define a function to evaluate the MSE for different models"
   ]
  },
  {
   "cell_type": "code",
   "execution_count": 4,
   "id": "d6596428",
   "metadata": {},
   "outputs": [],
   "source": [
    "def evalMSE(terms,\n",
    "            response,\n",
    "            train,\n",
    "            test):\n",
    "\n",
    "   mm = MS(terms)\n",
    "   X_train = mm.fit_transform(train)\n",
    "   y_train = train[response]\n",
    "\n",
    "   X_test = mm.transform(test)\n",
    "   y_test = test[response]\n",
    "\n",
    "   results = sm.OLS(y_train, X_train).fit()\n",
    "   test_pred = results.predict(X_test)\n",
    "\n",
    "   return np.mean((y_test - test_pred)**2)"
   ]
  },
  {
   "cell_type": "code",
   "execution_count": 5,
   "id": "e8ced916",
   "metadata": {},
   "outputs": [
    {
     "data": {
      "text/plain": [
       "array([23.61661707, 18.76303135, 18.79694163, 18.77852784, 18.44907863])"
      ]
     },
     "execution_count": 5,
     "metadata": {},
     "output_type": "execute_result"
    }
   ],
   "source": [
    "MSE = np.zeros(5) # Why using size 5?\n",
    "for idx, degree in enumerate(range(1, 6)):\n",
    "    MSE[idx] = evalMSE([poly('horsepower', degree)],\n",
    "                       'mpg',\n",
    "                       Auto_train,\n",
    "                       Auto_valid)\n",
    "MSE"
   ]
  },
  {
   "cell_type": "markdown",
   "id": "df91789f",
   "metadata": {},
   "source": [
    "# Performing LOOCV"
   ]
  },
  {
   "cell_type": "code",
   "execution_count": 6,
   "id": "e3aa3e18",
   "metadata": {},
   "outputs": [
    {
     "name": "stdout",
     "output_type": "stream",
     "text": [
      "(392, 2)\n",
      "(392, 3)\n",
      "(392, 4)\n",
      "(392, 5)\n",
      "(392, 6)\n"
     ]
    },
    {
     "data": {
      "text/plain": [
       "array([24.23151352, 19.24821312, 19.33498406, 19.42443029, 19.03320648])"
      ]
     },
     "execution_count": 6,
     "metadata": {},
     "output_type": "execute_result"
    }
   ],
   "source": [
    "hp_model = sklearn_sm(sm.OLS,\n",
    "                      MS(['horsepower']))  # Only using horsepower as X to train this model?\n",
    "# y is 'mpg'\n",
    "X, Y = Auto.drop(columns=['mpg']), Auto['mpg']\n",
    "cv_error = np.zeros(5)\n",
    "H = np.array(Auto['horsepower'])\n",
    "M = sklearn_sm(sm.OLS)\n",
    "\n",
    "for i, d in enumerate(range(1,6)):\n",
    "    X = np.power.outer(H, np.arange(d+1))\n",
    "    print(X.shape)\n",
    "    M_CV = cross_validate(M,\n",
    "                          X,\n",
    "                          Y,\n",
    "                          cv=Auto.shape[0])\n",
    "    cv_error[i] = np.mean(M_CV['test_score'])\n",
    "cv_error\n"
   ]
  },
  {
   "cell_type": "markdown",
   "id": "d5d848c0",
   "metadata": {},
   "source": [
    "You can see that the argument cv is set to be the number of samples, which is an indication of a LOOCV taking place"
   ]
  },
  {
   "cell_type": "markdown",
   "id": "284d7a48",
   "metadata": {},
   "source": [
    "# Performing K-Fold CV"
   ]
  },
  {
   "cell_type": "code",
   "execution_count": 7,
   "id": "de5733f6",
   "metadata": {},
   "outputs": [
    {
     "name": "stdout",
     "output_type": "stream",
     "text": [
      "2\n",
      "3\n",
      "4\n",
      "5\n",
      "6\n"
     ]
    },
    {
     "data": {
      "text/plain": [
       "array([24.20766449, 19.18533142, 19.27626666, 19.47848403, 19.13720065])"
      ]
     },
     "execution_count": 7,
     "metadata": {},
     "output_type": "execute_result"
    }
   ],
   "source": [
    "cv_error = np.zeros(5)\n",
    "cv = KFold(n_splits=10,\n",
    "           shuffle=True,\n",
    "           random_state=0) # use same splits for each degree\n",
    "for i, d in enumerate(range(1,6)):\n",
    "    X = np.power.outer(H, np.arange(d+1))\n",
    "    print(X.shape[1])\n",
    "    M_CV = cross_validate(M,\n",
    "                          X,\n",
    "                          Y,\n",
    "                          cv=cv)\n",
    "    cv_error[i] = np.mean(M_CV['test_score'])\n",
    "cv_error"
   ]
  },
  {
   "cell_type": "raw",
   "id": "e545fdbf-7473-4bd4-a5c7-10cf606cbb57",
   "metadata": {},
   "source": [
    "You can see that this block of code is much faster than the LOOCV block"
   ]
  }
 ],
 "metadata": {
  "kernelspec": {
   "display_name": "Python 3 (ipykernel)",
   "language": "python",
   "name": "python3"
  },
  "language_info": {
   "codemirror_mode": {
    "name": "ipython",
    "version": 3
   },
   "file_extension": ".py",
   "mimetype": "text/x-python",
   "name": "python",
   "nbconvert_exporter": "python",
   "pygments_lexer": "ipython3",
   "version": "3.11.7"
  }
 },
 "nbformat": 4,
 "nbformat_minor": 5
}
