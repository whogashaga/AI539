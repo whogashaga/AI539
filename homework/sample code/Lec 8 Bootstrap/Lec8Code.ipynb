{
 "cells": [
  {
   "cell_type": "markdown",
   "id": "a0dea78b",
   "metadata": {},
   "source": [
    "Importing the required libraries "
   ]
  },
  {
   "cell_type": "code",
   "execution_count": 36,
   "id": "8513fbdf",
   "metadata": {},
   "outputs": [],
   "source": [
    "import numpy as np\n",
    "import pandas as pd\n",
    "import statsmodels.api as sm"
   ]
  },
  {
   "cell_type": "markdown",
   "id": "b0436a8e",
   "metadata": {},
   "source": [
    "Reading the data file"
   ]
  },
  {
   "cell_type": "code",
   "execution_count": 47,
   "id": "08b673d9",
   "metadata": {},
   "outputs": [
    {
     "name": "stdout",
     "output_type": "stream",
     "text": [
      "    intercept         x\n",
      "0         1.0  6.294474\n",
      "1         1.0  8.115839\n",
      "2         1.0 -7.460264\n",
      "3         1.0  8.267517\n",
      "4         1.0  2.647185\n",
      "..        ...       ...\n",
      "95        1.0 -7.401876\n",
      "96        1.0  1.376473\n",
      "97        1.0 -0.612187\n",
      "98        1.0 -9.761959\n",
      "99        1.0 -3.257547\n",
      "\n",
      "[100 rows x 2 columns]\n"
     ]
    }
   ],
   "source": [
    "data = pd.read_csv(\"lmData.csv\")\n",
    "# Adding a constant column for the intercept\n",
    "data['intercept'] = 1.0\n",
    "X = data[['intercept', 'x']]\n",
    "y = data['y']\n",
    "print(X)\n",
    "# data = open(\"lmData.csv\")\n",
    "# myData = np.loadtxt(data, delimiter=\",\", skiprows=1)\n",
    "# x = myData[:, 0]\n",
    "# y = myData[:, 1]\n",
    "# # Adding a constant column for the intercept\n",
    "# X = sm.add_constant(x, prepend=False)"
   ]
  },
  {
   "cell_type": "code",
   "execution_count": 48,
   "id": "2a961d2c",
   "metadata": {},
   "outputs": [
    {
     "name": "stdout",
     "output_type": "stream",
     "text": [
      "                            OLS Regression Results                            \n",
      "==============================================================================\n",
      "Dep. Variable:                      y   R-squared:                       0.997\n",
      "Model:                            OLS   Adj. R-squared:                  0.997\n",
      "Method:                 Least Squares   F-statistic:                 3.289e+04\n",
      "Date:                Tue, 30 Apr 2024   Prob (F-statistic):          1.19e-125\n",
      "Time:                        20:39:54   Log-Likelihood:                -139.51\n",
      "No. Observations:                 100   AIC:                             283.0\n",
      "Df Residuals:                      98   BIC:                             288.2\n",
      "Df Model:                           1                                         \n",
      "Covariance Type:            nonrobust                                         \n",
      "==============================================================================\n",
      "                 coef    std err          t      P>|t|      [0.025      0.975]\n",
      "------------------------------------------------------------------------------\n",
      "intercept      0.9037      0.099      9.121      0.000       0.707       1.100\n",
      "x              3.0267      0.017    181.366      0.000       2.994       3.060\n",
      "==============================================================================\n",
      "Omnibus:                        4.694   Durbin-Watson:                   2.360\n",
      "Prob(Omnibus):                  0.096   Jarque-Bera (JB):                4.062\n",
      "Skew:                          -0.401   Prob(JB):                        0.131\n",
      "Kurtosis:                       3.575   Cond. No.                         5.97\n",
      "==============================================================================\n",
      "\n",
      "Notes:\n",
      "[1] Standard Errors assume that the covariance matrix of the errors is correctly specified.\n"
     ]
    }
   ],
   "source": [
    "# Define the simple regression model\n",
    "mod1 = sm.OLS(y, X)\n",
    "# Fit the OLS model\n",
    "results = mod1.fit()\n",
    "print(results.summary())"
   ]
  },
  {
   "cell_type": "code",
   "execution_count": 49,
   "id": "4ebcb957",
   "metadata": {},
   "outputs": [],
   "source": [
    "# Get the fitted values\n",
    "yHat = results.fittedvalues\n",
    "# Get the residuals\n",
    "noise = y - yHat\n",
    "# print(noise)"
   ]
  },
  {
   "cell_type": "markdown",
   "id": "44be9df6",
   "metadata": {},
   "source": [
    "# Bootstrapping"
   ]
  },
  {
   "cell_type": "code",
   "execution_count": 40,
   "id": "e2cc2e49",
   "metadata": {},
   "outputs": [
    {
     "name": "stdout",
     "output_type": "stream",
     "text": [
      "10000\n",
      "[0.90371224 0.         0.         ... 0.         0.         0.        ]\n",
      "0.9030973819372217\n",
      "0.09751463428837895\n"
     ]
    }
   ],
   "source": [
    "# Set bootstrap size\n",
    "n = 10000\n",
    "# define a vector of zeros\n",
    "beta1 = np.zeros(n)\n",
    "print(beta1.size)\n",
    "beta1[0] = results.params[0]\n",
    "print(beta1)\n",
    "for i in np.arange(1, 10000):\n",
    "    residBoot = np.random.choice(noise, 100, replace=True)  # use np.random.permutation(noise) if without replace\n",
    "    yBoot = yHat + residBoot\n",
    "    modBoot = sm.OLS(yBoot, X)\n",
    "    resultsBoot = modBoot.fit()\n",
    "    beta1[i] = resultsBoot.params[0]\n",
    "\n",
    "print(np.mean(beta1))\n",
    "print(np.std(beta1))"
   ]
  },
  {
   "cell_type": "markdown",
   "id": "13d7775b-d2ac-404e-80ee-666c355c3150",
   "metadata": {},
   "source": [
    "## ~ ~ ~ ~ ~ ~ ~ ~ ~ ~ Example 2 ~ ~ ~ ~ ~ ~ ~ ~ ~ ~"
   ]
  },
  {
   "cell_type": "code",
   "execution_count": 41,
   "id": "d6596428",
   "metadata": {},
   "outputs": [
    {
     "name": "stdout",
     "output_type": "stream",
     "text": [
      "3.026746501162043\n",
      "0.016544780985950844\n"
     ]
    }
   ],
   "source": [
    "data = open(\"lmData.csv\")\n",
    "myData = np.loadtxt(data, delimiter=\",\", skiprows=1)\n",
    "x = myData[:, 0]\n",
    "y = myData[:, 1]\n",
    "\n",
    "# Adding a constant column for the intercept\n",
    "X = sm.add_constant(x, prepend=False)\n",
    "\n",
    "# Define the simple regression model\n",
    "mod1 = sm.OLS(y, X)\n",
    "# Fit the OLS model\n",
    "results = mod1.fit()\n",
    "# Get the fitted values\n",
    "yHat = results.fittedvalues\n",
    "# Get the residuals\n",
    "noise = y - yHat\n",
    "# Set bootstrap size\n",
    "n = 10000\n",
    "\n",
    "# define a vector of zeros\n",
    "beta1 = np.zeros(n)\n",
    "beta1[0] = results.params[0]\n",
    "for i in np.arange(1, 10000):\n",
    "    residBoot = np.random.choice(noise, 100, replace=True)  # use np.random.permutation(noise) if without replace\n",
    "    yBoot = yHat + residBoot\n",
    "    modBoot = sm.OLS(yBoot, X)\n",
    "    resultsBoot = modBoot.fit()\n",
    "    beta1[i] = resultsBoot.params[0]\n",
    "\n",
    "print(np.mean(beta1))\n",
    "print(np.std(beta1))"
   ]
  }
 ],
 "metadata": {
  "kernelspec": {
   "display_name": "Python 3 (ipykernel)",
   "language": "python",
   "name": "python3"
  },
  "language_info": {
   "codemirror_mode": {
    "name": "ipython",
    "version": 3
   },
   "file_extension": ".py",
   "mimetype": "text/x-python",
   "name": "python",
   "nbconvert_exporter": "python",
   "pygments_lexer": "ipython3",
   "version": "3.11.7"
  }
 },
 "nbformat": 4,
 "nbformat_minor": 5
}
