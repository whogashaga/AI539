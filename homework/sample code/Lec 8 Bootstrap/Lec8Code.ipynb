{
 "cells": [
  {
   "cell_type": "markdown",
   "id": "a0dea78b",
   "metadata": {},
   "source": [
    "Importing the required libraries "
   ]
  },
  {
   "cell_type": "code",
   "execution_count": 1,
   "id": "8513fbdf",
   "metadata": {},
   "outputs": [],
   "source": [
    "import numpy as np\n",
    "import statsmodels.api as sm"
   ]
  },
  {
   "cell_type": "markdown",
   "id": "b0436a8e",
   "metadata": {},
   "source": [
    "Reading the data file"
   ]
  },
  {
   "cell_type": "code",
   "execution_count": 7,
   "id": "08b673d9",
   "metadata": {},
   "outputs": [],
   "source": [
    "data = open(\"lmData.csv\")\n",
    "myData = np.loadtxt(data, delimiter=\",\", skiprows=1)\n",
    "x = myData[:, 0]\n",
    "y = myData[:, 1]"
   ]
  },
  {
   "cell_type": "code",
   "execution_count": 11,
   "id": "2a961d2c",
   "metadata": {},
   "outputs": [
    {
     "name": "stdout",
     "output_type": "stream",
     "text": [
      "                            OLS Regression Results                            \n",
      "==============================================================================\n",
      "Dep. Variable:                      y   R-squared:                       0.997\n",
      "Model:                            OLS   Adj. R-squared:                  0.997\n",
      "Method:                 Least Squares   F-statistic:                 3.289e+04\n",
      "Date:                Tue, 23 Apr 2024   Prob (F-statistic):          1.19e-125\n",
      "Time:                        21:52:06   Log-Likelihood:                -139.51\n",
      "No. Observations:                 100   AIC:                             283.0\n",
      "Df Residuals:                      98   BIC:                             288.2\n",
      "Df Model:                           1                                         \n",
      "Covariance Type:            nonrobust                                         \n",
      "==============================================================================\n",
      "                 coef    std err          t      P>|t|      [0.025      0.975]\n",
      "------------------------------------------------------------------------------\n",
      "x1             3.0267      0.017    181.366      0.000       2.994       3.060\n",
      "const          0.9037      0.099      9.121      0.000       0.707       1.100\n",
      "==============================================================================\n",
      "Omnibus:                        4.694   Durbin-Watson:                   2.360\n",
      "Prob(Omnibus):                  0.096   Jarque-Bera (JB):                4.062\n",
      "Skew:                          -0.401   Prob(JB):                        0.131\n",
      "Kurtosis:                       3.575   Cond. No.                         5.97\n",
      "==============================================================================\n",
      "\n",
      "Notes:\n",
      "[1] Standard Errors assume that the covariance matrix of the errors is correctly specified.\n"
     ]
    }
   ],
   "source": [
    "# Adding a constant column for the intercept\n",
    "X = sm.add_constant(x, prepend=False)\n",
    "# Define the simple regression model\n",
    "mod1 = sm.OLS(y, X)\n",
    "# Fit the OLS model\n",
    "results = mod1.fit()\n",
    "print(results.summary())"
   ]
  },
  {
   "cell_type": "code",
   "execution_count": 9,
   "id": "4ebcb957",
   "metadata": {},
   "outputs": [],
   "source": [
    "# Get the fitted values\n",
    "yHat = results.fittedvalues\n",
    "# Get the residuals\n",
    "noise = y - yHat"
   ]
  },
  {
   "cell_type": "markdown",
   "id": "44be9df6",
   "metadata": {},
   "source": [
    "# Bootstrapping"
   ]
  },
  {
   "cell_type": "code",
   "execution_count": 10,
   "id": "e2cc2e49",
   "metadata": {},
   "outputs": [
    {
     "name": "stdout",
     "output_type": "stream",
     "text": [
      "3.0266976598511293\n",
      "0.016416284929107558\n"
     ]
    }
   ],
   "source": [
    "# Set bootstrap size\n",
    "n = 10000\n",
    "# define a vector of zeros\n",
    "beta1 = np.zeros(n)\n",
    "beta1[0] = results.params[0]\n",
    "for i in np.arange(1, 10000):\n",
    "    residBoot = np.random.choice(noise, 100, replace=True)  # use np.random.permutation(noise) if without replace\n",
    "    yBoot = yHat + residBoot\n",
    "    modBoot = sm.OLS(yBoot, X)\n",
    "    resultsBoot = modBoot.fit()\n",
    "    beta1[i] = resultsBoot.params[0]\n",
    "\n",
    "print(np.mean(beta1))\n",
    "print(np.std(beta1))"
   ]
  },
  {
   "cell_type": "code",
   "execution_count": null,
   "id": "d6596428",
   "metadata": {},
   "outputs": [],
   "source": []
  }
 ],
 "metadata": {
  "kernelspec": {
   "display_name": "Python 3 (ipykernel)",
   "language": "python",
   "name": "python3"
  },
  "language_info": {
   "codemirror_mode": {
    "name": "ipython",
    "version": 3
   },
   "file_extension": ".py",
   "mimetype": "text/x-python",
   "name": "python",
   "nbconvert_exporter": "python",
   "pygments_lexer": "ipython3",
   "version": "3.9.13"
  }
 },
 "nbformat": 4,
 "nbformat_minor": 5
}
