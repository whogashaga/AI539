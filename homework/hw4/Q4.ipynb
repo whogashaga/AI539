{
 "cells": [
  {
   "cell_type": "markdown",
   "id": "2de5fb3e-3c72-43f3-97f4-1e6cf9d83c69",
   "metadata": {},
   "source": [
    "#### In this question we analyze the data file **Fertility.csv** which is available in the homework folder, and try to build a model for fertility. In this dataset Fertility, the first column, is the response variable, and the other variables are potential predictors. We will use several different statistical modeling techniques. The data set contains 47 rows (samples), split the data into training and test sets. Set the first 30 rows to training samples and the rows 31 through 47 as the test samples."
   ]
  },
  {
   "cell_type": "code",
   "execution_count": 14,
   "id": "ebb49c12-19ac-4206-acf5-7a4933f90a6c",
   "metadata": {},
   "outputs": [],
   "source": [
    "import numpy as np\n",
    "import pandas as pd\n",
    "from matplotlib.pyplot import subplots\n",
    "from statsmodels.api import OLS\n",
    "import sklearn.model_selection as skm\n",
    "import sklearn.linear_model as skl\n",
    "from sklearn.preprocessing import StandardScaler\n",
    "from ISLP import load_data\n",
    "from ISLP.models import ModelSpec as MS\n",
    "from functools import partial\n",
    "from sklearn.pipeline import Pipeline\n",
    "import statsmodels.api as sm\n",
    "from sklearn.metrics import mean_squared_error"
   ]
  },
  {
   "cell_type": "code",
   "execution_count": 11,
   "id": "34cde219-40c1-4ec9-93bd-6e84397ea0f5",
   "metadata": {},
   "outputs": [],
   "source": [
    "Data = pd.read_csv('Fertility.csv')\n",
    "# print(Data)\n",
    "train = (Data.index < 30)\n",
    "X = MS(Data.columns.drop(['Fertility'])).fit_transform(Data)\n",
    "Y = Data['Fertility']\n",
    "# print(X.loc[train])\n",
    "y_train, X_train = Y.loc[train] , X.loc[train]\n",
    "y_test, X_test = Y.loc[~train] , X.loc[~train]"
   ]
  },
  {
   "cell_type": "markdown",
   "id": "dc820d95-ec6a-4c8d-8005-777986fafade",
   "metadata": {},
   "source": [
    "#### (a) Fit a linear model on the training set, and report the test error (MSE) obtained."
   ]
  },
  {
   "cell_type": "code",
   "execution_count": 24,
   "id": "f1bcbac5-ea43-4772-978c-eb14b0c787f9",
   "metadata": {},
   "outputs": [
    {
     "name": "stdout",
     "output_type": "stream",
     "text": [
      "183.72179150160696\n"
     ]
    }
   ],
   "source": [
    "LinearModel = sm.OLS(y_train, X_train).fit()\n",
    "# LinearModel.summary()\n",
    "pred_linear = LinearModel.predict(X_test)\n",
    "MSE = mean_squared_error([y_test], [pred_linear])\n",
    "# print(y_test, pred_linear)\n",
    "print(MSE)"
   ]
  },
  {
   "cell_type": "markdown",
   "id": "cbd9ef1c-842e-4ff9-abdb-877956da061b",
   "metadata": {},
   "source": [
    "#### (b) Fit a Ridge regression model on the training set, with λ chosen by cross-validation on a dense grid similar to the example solved in the class. Report the test error obtained."
   ]
  },
  {
   "cell_type": "markdown",
   "id": "19e1265b-b0df-46bc-8838-292f60bddbf8",
   "metadata": {},
   "source": [
    "#### (c) Fit a LASSO model on the training set, with λ chosen by cross-validation on a dense grid similar to the example solved in the class. Report the test error obtained, along with the number of non-zero coefficient estimates."
   ]
  },
  {
   "cell_type": "markdown",
   "id": "2687e40e-ad9e-4bf7-a6a0-9f66fc7a98f5",
   "metadata": {},
   "source": [
    "#### (d) Compare the results of (a), (b), and (c). Which one seems to outperform the others for this specific setup?"
   ]
  }
 ],
 "metadata": {
  "kernelspec": {
   "display_name": "Python 3 (ipykernel)",
   "language": "python",
   "name": "python3"
  },
  "language_info": {
   "codemirror_mode": {
    "name": "ipython",
    "version": 3
   },
   "file_extension": ".py",
   "mimetype": "text/x-python",
   "name": "python",
   "nbconvert_exporter": "python",
   "pygments_lexer": "ipython3",
   "version": "3.11.7"
  }
 },
 "nbformat": 4,
 "nbformat_minor": 5
}
