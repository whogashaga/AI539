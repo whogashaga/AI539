{
 "cells": [
  {
   "cell_type": "markdown",
   "id": "2b3a4e1b-63aa-4ce5-a51c-2ff2b6b671ba",
   "metadata": {},
   "source": [
    "#### In the class we mentioned that for linear models, the LOOCV test error estimate can be obtained as a closed form expression, and there is no need to perform n linear fits for a data set of size n. The goal of this question is for you to obtain that closed-form expression, for a class of linear models. We focus on the simple linear model."
   ]
  },
  {
   "cell_type": "markdown",
   "id": "45c812b9-f6d2-4f93-bfdb-92c8c72a87f3",
   "metadata": {},
   "source": [
    "#### (f) In the homework folder you have access to the data file **SimpleReg.csv**. The data contains a feature column x and a response column y. Read the data, then center the x data, and fit a linear model in the form of $y = β0 + β1x$. Now use an R or Python program to calculate the LOOCV CVn, as we did in the class (if you use R, pick the first element of delta). Also write a code that calculates the CVn using equation (3). You should see that the two methods produce identical results. You may also be surprised with how faster your customized code is, compared to the R cv.glm function!"
   ]
  },
  {
   "cell_type": "code",
   "execution_count": 1,
   "id": "9184982e-4309-4ec0-9b52-ce54d35b5d99",
   "metadata": {},
   "outputs": [],
   "source": [
    "import numpy as np\n",
    "import pandas as pd\n",
    "import statsmodels.api as sm\n",
    "from ISLP.models import sklearn_sm\n",
    "from ISLP.models import (ModelSpec as MS,summarize)\n",
    "from sklearn.model_selection import cross_validate\n",
    "from sklearn.metrics import mean_squared_error\n",
    "from sklearn.preprocessing import StandardScaler"
   ]
  },
  {
   "cell_type": "code",
   "execution_count": 2,
   "id": "f38b40bc-f16f-4dbf-a0d4-11fec00878b1",
   "metadata": {},
   "outputs": [],
   "source": [
    "Data = pd.read_csv('SimpleReg.csv')\n",
    "y = Data['y']\n",
    "df = pd.DataFrame({'intercept': np.ones(Data.shape[0]), 'x':Data['x']})\n",
    "# standardlize training data\n",
    "X = pd.DataFrame(StandardScaler(with_mean=True,  with_std=True).fit_transform(df), \n",
    "                 columns=df.columns, \n",
    "                 index=df.index)\n",
    "# print(X)"
   ]
  },
  {
   "cell_type": "markdown",
   "id": "f8a9e0c4-36db-456f-b7e6-4c4ce4679429",
   "metadata": {},
   "source": [
    "### = = = = = From Sample code = = = = ="
   ]
  },
  {
   "cell_type": "code",
   "execution_count": 9,
   "id": "c9f61157-de38-419a-aa85-dd828c637f86",
   "metadata": {},
   "outputs": [
    {
     "name": "stdout",
     "output_type": "stream",
     "text": [
      "CVn: 0.7256502337450886\n"
     ]
    }
   ],
   "source": [
    "M = sklearn_sm(sm.OLS)\n",
    "M_CV = cross_validate(M, X, y, cv=Data.shape[0])\n",
    "cv_error = np.mean(M_CV['test_score'])\n",
    "print('CVn:', cv_error)"
   ]
  },
  {
   "cell_type": "code",
   "execution_count": 4,
   "id": "4570f4e0-1b84-4839-ba7e-939b5f4d1b2f",
   "metadata": {},
   "outputs": [],
   "source": [
    "def split_data_leave_one_out(X, y, i):\n",
    "    X_train = X.drop(i)\n",
    "    y_train = y.drop(i)\n",
    "    X_test = X.iloc[i:i+1]\n",
    "    y_test = y.iloc[i]\n",
    "    return X_train, y_train, X_test, y_test"
   ]
  },
  {
   "cell_type": "code",
   "execution_count": 10,
   "id": "4d417c3f-231a-4a88-8ca9-06e920feb2f7",
   "metadata": {},
   "outputs": [
    {
     "name": "stdout",
     "output_type": "stream",
     "text": [
      "CVn: 0.7256502337450886\n"
     ]
    }
   ],
   "source": [
    "MSE_LR = np.zeros(len(Data))\n",
    "for i in range(len(Data)):\n",
    "    X_train, y_train, X_test, y_test = split_data_leave_one_out(X, y, i)\n",
    "    # fit model\n",
    "    model = sm.OLS(y_train, X_train).fit()\n",
    "    # prediction of the left sample\n",
    "    pred = model.predict(exog=X_test)\n",
    "    # calculate MSE\n",
    "    MSE_LR[i] = mean_squared_error([y_test], [pred])\n",
    "    # if i in range(3):\n",
    "    #     print(model.params[0], model.params[1])\n",
    "print(f'CVn: {np.mean(MSE_LR)}')"
   ]
  },
  {
   "cell_type": "markdown",
   "id": "49d700fd-9cc2-48c6-bfa8-a9a2d0539da5",
   "metadata": {},
   "source": [
    "### = = = = = $CV_n = \\frac{1}{n} \\sum_{j=1}^{n} (\\frac{y_j - \\hat{y}}{1 - h_j})^2$ = = = = ="
   ]
  },
  {
   "cell_type": "code",
   "execution_count": 7,
   "id": "20c7ff93-3346-430f-a2ce-c13304cfb121",
   "metadata": {},
   "outputs": [
    {
     "name": "stdout",
     "output_type": "stream",
     "text": [
      "CVn: 0.37539681052299934\n"
     ]
    }
   ],
   "source": [
    "n = len(Data)\n",
    "MSE = np.zeros(n)\n",
    "\n",
    "x = X['x']\n",
    "Sxy = np.sum(Data.x * Data.y)\n",
    "Sxx = np.sum(Data.x * Data.x)\n",
    "muY = np.mean(y)\n",
    "\n",
    "for j in range(n):\n",
    "    \n",
    "    beta_1_hat = (Sxy - (n/n-1) * x[j] * (y[j] - muY)) / (Sxx - (n/n-1) * x[j] * x[j])\n",
    "    beta_0_hat = y[j] - (n * (y[j] - muY) / (n-1)) + (beta_1_hat * x[j] / (n-1))\n",
    "    \n",
    "    # predict y_hat\n",
    "    y_hat = beta_0_hat + (beta_1_hat * x[j])\n",
    "    \n",
    "    # calculate MSE\n",
    "    h_j = 1/n + ((x[j] * x[j]) / Sxx)\n",
    "    MSE[j] = ( (y[j] - y_hat) / (1 - h_j) ) ** 2\n",
    "\n",
    "    # if j in range(3):\n",
    "    #     print('b0:', beta_0_hat, 'b1:', beta_1_hat)\n",
    "    #     print('yj: ', y[j], 'y_hat:', y_hat, '\\n= = = = = = =')\n",
    "\n",
    "print('CVn:', np.sum(MSE)/len(Data))"
   ]
  }
 ],
 "metadata": {
  "kernelspec": {
   "display_name": "Python 3 (ipykernel)",
   "language": "python",
   "name": "python3"
  },
  "language_info": {
   "codemirror_mode": {
    "name": "ipython",
    "version": 3
   },
   "file_extension": ".py",
   "mimetype": "text/x-python",
   "name": "python",
   "nbconvert_exporter": "python",
   "pygments_lexer": "ipython3",
   "version": "3.11.7"
  }
 },
 "nbformat": 4,
 "nbformat_minor": 5
}
