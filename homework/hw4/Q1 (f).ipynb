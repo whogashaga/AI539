{
 "cells": [
  {
   "cell_type": "markdown",
   "id": "45c812b9-f6d2-4f93-bfdb-92c8c72a87f3",
   "metadata": {},
   "source": [
    "#### (f) In the homework folder you have access to the data file **SimpleReg.csv**. The data contains a feature column x and a response column y. Read the data, then center the x data, and fit a linear model in the form of $y = β0 + β1x$. Now use an R or Python program to calculate the LOOCV CVn, as we did in the class (if you use R, pick the first element of delta). Also write a code that calculates the CVn using equation (3). You should see that the two methods produce identical results. You may also be surprised with how faster your customized code is, compared to the R cv.glm function!"
   ]
  },
  {
   "cell_type": "code",
   "execution_count": 1,
   "id": "9184982e-4309-4ec0-9b52-ce54d35b5d99",
   "metadata": {},
   "outputs": [],
   "source": [
    "import numpy as np\n",
    "import pandas as pd\n",
    "import statsmodels.api as sm\n",
    "from ISLP.models import sklearn_sm\n",
    "from sklearn.model_selection import cross_validate\n",
    "from sklearn.preprocessing import StandardScaler"
   ]
  },
  {
   "cell_type": "code",
   "execution_count": 2,
   "id": "f38b40bc-f16f-4dbf-a0d4-11fec00878b1",
   "metadata": {},
   "outputs": [],
   "source": [
    "Data = pd.read_csv('SimpleReg.csv')\n",
    "y = Data['y']\n",
    "X = Data[['x']]\n",
    "# standardlize training data\n",
    "X_cent = StandardScaler(with_mean=True,  with_std=False).fit_transform(X)\n",
    "X = pd.DataFrame({'intercept': np.ones(X.shape[0]), 'x': X_cent.flatten()})\n",
    "# X"
   ]
  },
  {
   "cell_type": "markdown",
   "id": "f8a9e0c4-36db-456f-b7e6-4c4ce4679429",
   "metadata": {},
   "source": [
    "#  ~ ~ ~ ~ ~ From Sample code  ~ ~ ~ ~ ~"
   ]
  },
  {
   "cell_type": "code",
   "execution_count": 3,
   "id": "c9f61157-de38-419a-aa85-dd828c637f86",
   "metadata": {},
   "outputs": [
    {
     "name": "stdout",
     "output_type": "stream",
     "text": [
      "CVn: 0.3695297270024033\n"
     ]
    }
   ],
   "source": [
    "M = sklearn_sm(sm.OLS)\n",
    "M_CV = cross_validate(M, X, y, cv=Data.shape[0])\n",
    "cv_error = np.mean(M_CV['test_score'])\n",
    "print('CVn:', cv_error)"
   ]
  },
  {
   "cell_type": "markdown",
   "id": "49d700fd-9cc2-48c6-bfa8-a9a2d0539da5",
   "metadata": {},
   "source": [
    "# ~ ~ ~ ~ ~ $CV_n = \\frac{1}{n} \\sum_{j=1}^{n} (\\frac{y_j - \\hat{y}}{1 - h_j})^2$ ~ ~ ~ ~ ~"
   ]
  },
  {
   "cell_type": "code",
   "execution_count": 4,
   "id": "20c7ff93-3346-430f-a2ce-c13304cfb121",
   "metadata": {},
   "outputs": [
    {
     "name": "stdout",
     "output_type": "stream",
     "text": [
      "CVn: 0.3703803767708858\n"
     ]
    }
   ],
   "source": [
    "n = len(Data)\n",
    "MSE = np.zeros(n)\n",
    "\n",
    "x = X['x']\n",
    "Sxy = np.sum(Data.x * Data.y)\n",
    "Sxx = np.sum(Data.x * Data.x)\n",
    "muY = np.mean(y)\n",
    "\n",
    "for j in range(n):\n",
    "    \n",
    "    beta_1_hat = (Sxy - (n/n-1) * x[j] * (y[j] - muY)) / (Sxx - (n/n-1) * x[j] * x[j])\n",
    "    beta_0_hat = y[j] - (n * (y[j] - muY) / (n-1)) + (beta_1_hat * x[j] / (n-1))\n",
    "    \n",
    "    # predict y_hat\n",
    "    y_hat = beta_0_hat + (beta_1_hat * x[j])\n",
    "    \n",
    "    # calculate MSE\n",
    "    h_j = 1/n + ((x[j] * x[j]) / Sxx)\n",
    "    MSE[j] = ( (y[j] - y_hat) / (1 - h_j) ) ** 2\n",
    "\n",
    "print('CVn:', np.sum(MSE)/len(Data))"
   ]
  },
  {
   "cell_type": "markdown",
   "id": "546cbae0-c374-455d-8127-42531467793b",
   "metadata": {},
   "source": [
    "#### The results are pretty close, all around 0.37, but not identical."
   ]
  }
 ],
 "metadata": {
  "kernelspec": {
   "display_name": "Python 3 (ipykernel)",
   "language": "python",
   "name": "python3"
  },
  "language_info": {
   "codemirror_mode": {
    "name": "ipython",
    "version": 3
   },
   "file_extension": ".py",
   "mimetype": "text/x-python",
   "name": "python",
   "nbconvert_exporter": "python",
   "pygments_lexer": "ipython3",
   "version": "3.11.7"
  }
 },
 "nbformat": 4,
 "nbformat_minor": 5
}
