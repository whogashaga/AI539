{
 "cells": [
  {
   "cell_type": "markdown",
   "id": "2de5fb3e-3c72-43f3-97f4-1e6cf9d83c69",
   "metadata": {},
   "source": [
    "#### In this question we analyze the data file **Fertility.csv** which is available in the homework folder, and try to build a model for fertility. In this dataset Fertility, the first column, is the response variable, and the other variables are potential predictors. We will use several different statistical modeling techniques. The data set contains 47 rows (samples), split the data into training and test sets. Set the first 30 rows to training samples and the rows 31 through 47 as the test samples."
   ]
  },
  {
   "cell_type": "code",
   "execution_count": 28,
   "id": "ebb49c12-19ac-4206-acf5-7a4933f90a6c",
   "metadata": {},
   "outputs": [],
   "source": [
    "import numpy as np\n",
    "import pandas as pd\n",
    "from ISLP.models import ModelSpec as MS\n",
    "from sklearn.model_selection import KFold, GridSearchCV\n",
    "from sklearn.preprocessing import StandardScaler\n",
    "from sklearn.pipeline import Pipeline\n",
    "import sklearn.linear_model as skl\n",
    "from sklearn.linear_model import Ridge, Lasso, LinearRegression, RidgeCV, LassoCV\n",
    "from sklearn.metrics import mean_squared_error\n",
    "from l0bnb import fit_path"
   ]
  },
  {
   "cell_type": "code",
   "execution_count": 7,
   "id": "34cde219-40c1-4ec9-93bd-6e84397ea0f5",
   "metadata": {},
   "outputs": [
    {
     "name": "stdout",
     "output_type": "stream",
     "text": [
      "(47, 6)\n"
     ]
    }
   ],
   "source": [
    "Data = pd.read_csv('Fertility.csv')\n",
    "# print(Data)\n",
    "train = (Data.index < 30)\n",
    "X = MS(Data.columns.drop(['Fertility'])).fit_transform(Data)\n",
    "Y = Data['Fertility']\n",
    "print(X.shape)\n",
    "y_train, X_train = Y.loc[train] , X.loc[train]\n",
    "y_test, X_test = Y.loc[~train] , X.loc[~train]"
   ]
  },
  {
   "cell_type": "markdown",
   "id": "dc820d95-ec6a-4c8d-8005-777986fafade",
   "metadata": {},
   "source": [
    "#### (a) Fit a linear model on the training set, and report the test error (MSE) obtained."
   ]
  },
  {
   "cell_type": "code",
   "execution_count": 8,
   "id": "444b4901-c6cd-42da-a6ff-0ed6f4547502",
   "metadata": {},
   "outputs": [
    {
     "name": "stdout",
     "output_type": "stream",
     "text": [
      "MSE Linear: 183.72179150160574\n"
     ]
    }
   ],
   "source": [
    "LinearModel = LinearRegression()\n",
    "LinearModel.fit(X_train, y_train)\n",
    "y_pred_linear = LinearModel.predict(X_test)\n",
    "mse_linear = mean_squared_error(y_test, y_pred_linear)\n",
    "# print(pd.DataFrame({'y':y_test, 'pred':pred_linear}))\n",
    "print('MSE Linear:', mse_linear)"
   ]
  },
  {
   "cell_type": "markdown",
   "id": "cbd9ef1c-842e-4ff9-abdb-877956da061b",
   "metadata": {},
   "source": [
    "#### (b) Fit a Ridge regression model on the training set, with λ chosen by cross-validation on a dense grid similar to the example solved in the class. Report the test error obtained."
   ]
  },
  {
   "cell_type": "code",
   "execution_count": 5,
   "id": "a9d56754-7444-4c23-9c50-ac5457e60846",
   "metadata": {},
   "outputs": [
    {
     "name": "stdout",
     "output_type": "stream",
     "text": [
      "Best lambda for Ridge: 200.92330025650458\n",
      "MSE Ridge:  190.8866277059537\n"
     ]
    }
   ],
   "source": [
    "lambdas = np.logspace(-12, 12, 100)  # Define a range of lambda values\n",
    "# print(lambdas)\n",
    "ridge_model = RidgeCV(alphas=lambdas, store_cv_values=True).fit(X_train, y_train)\n",
    "y_pred_ridge = ridge_model.predict(X_test)\n",
    "mse_ridge = mean_squared_error(y_test, y_pred_ridge)\n",
    "print('Best lambda for Ridge:', ridge_model.alpha_)\n",
    "print('MSE Ridge: ', mse_ridge)"
   ]
  },
  {
   "cell_type": "code",
   "execution_count": 29,
   "id": "34d9f4c0-75cc-407b-88a8-d7c8244cea9e",
   "metadata": {},
   "outputs": [
    {
     "ename": "KeyError",
     "evalue": "\"['intercept'] not found in axis\"",
     "output_type": "error",
     "traceback": [
      "\u001b[0;31m---------------------------------------------------------------------------\u001b[0m",
      "\u001b[0;31mKeyError\u001b[0m                                  Traceback (most recent call last)",
      "Cell \u001b[0;32mIn[29], line 1\u001b[0m\n\u001b[0;32m----> 1\u001b[0m X \u001b[38;5;241m=\u001b[39m X\u001b[38;5;241m.\u001b[39mdrop(\u001b[38;5;124m'\u001b[39m\u001b[38;5;124mintercept\u001b[39m\u001b[38;5;124m'\u001b[39m, axis\u001b[38;5;241m=\u001b[39m\u001b[38;5;241m1\u001b[39m)\n\u001b[1;32m      2\u001b[0m Xs \u001b[38;5;241m=\u001b[39m X \u001b[38;5;241m-\u001b[39m X\u001b[38;5;241m.\u001b[39mmean(\u001b[38;5;241m0\u001b[39m)[\u001b[38;5;28;01mNone\u001b[39;00m,:]\n\u001b[1;32m      3\u001b[0m X_scale \u001b[38;5;241m=\u001b[39m X\u001b[38;5;241m.\u001b[39mstd(\u001b[38;5;241m0\u001b[39m)\n",
      "File \u001b[0;32m/usr/local/anaconda3/lib/python3.11/site-packages/pandas/util/_decorators.py:331\u001b[0m, in \u001b[0;36mdeprecate_nonkeyword_arguments.<locals>.decorate.<locals>.wrapper\u001b[0;34m(*args, **kwargs)\u001b[0m\n\u001b[1;32m    325\u001b[0m \u001b[38;5;28;01mif\u001b[39;00m \u001b[38;5;28mlen\u001b[39m(args) \u001b[38;5;241m>\u001b[39m num_allow_args:\n\u001b[1;32m    326\u001b[0m     warnings\u001b[38;5;241m.\u001b[39mwarn(\n\u001b[1;32m    327\u001b[0m         msg\u001b[38;5;241m.\u001b[39mformat(arguments\u001b[38;5;241m=\u001b[39m_format_argument_list(allow_args)),\n\u001b[1;32m    328\u001b[0m         \u001b[38;5;167;01mFutureWarning\u001b[39;00m,\n\u001b[1;32m    329\u001b[0m         stacklevel\u001b[38;5;241m=\u001b[39mfind_stack_level(),\n\u001b[1;32m    330\u001b[0m     )\n\u001b[0;32m--> 331\u001b[0m \u001b[38;5;28;01mreturn\u001b[39;00m func(\u001b[38;5;241m*\u001b[39margs, \u001b[38;5;241m*\u001b[39m\u001b[38;5;241m*\u001b[39mkwargs)\n",
      "File \u001b[0;32m/usr/local/anaconda3/lib/python3.11/site-packages/pandas/core/frame.py:5399\u001b[0m, in \u001b[0;36mDataFrame.drop\u001b[0;34m(self, labels, axis, index, columns, level, inplace, errors)\u001b[0m\n\u001b[1;32m   5251\u001b[0m \u001b[38;5;129m@deprecate_nonkeyword_arguments\u001b[39m(version\u001b[38;5;241m=\u001b[39m\u001b[38;5;28;01mNone\u001b[39;00m, allowed_args\u001b[38;5;241m=\u001b[39m[\u001b[38;5;124m\"\u001b[39m\u001b[38;5;124mself\u001b[39m\u001b[38;5;124m\"\u001b[39m, \u001b[38;5;124m\"\u001b[39m\u001b[38;5;124mlabels\u001b[39m\u001b[38;5;124m\"\u001b[39m])\n\u001b[1;32m   5252\u001b[0m \u001b[38;5;28;01mdef\u001b[39;00m \u001b[38;5;21mdrop\u001b[39m(  \u001b[38;5;66;03m# type: ignore[override]\u001b[39;00m\n\u001b[1;32m   5253\u001b[0m     \u001b[38;5;28mself\u001b[39m,\n\u001b[0;32m   (...)\u001b[0m\n\u001b[1;32m   5260\u001b[0m     errors: IgnoreRaise \u001b[38;5;241m=\u001b[39m \u001b[38;5;124m\"\u001b[39m\u001b[38;5;124mraise\u001b[39m\u001b[38;5;124m\"\u001b[39m,\n\u001b[1;32m   5261\u001b[0m ) \u001b[38;5;241m-\u001b[39m\u001b[38;5;241m>\u001b[39m DataFrame \u001b[38;5;241m|\u001b[39m \u001b[38;5;28;01mNone\u001b[39;00m:\n\u001b[1;32m   5262\u001b[0m \u001b[38;5;250m    \u001b[39m\u001b[38;5;124;03m\"\"\"\u001b[39;00m\n\u001b[1;32m   5263\u001b[0m \u001b[38;5;124;03m    Drop specified labels from rows or columns.\u001b[39;00m\n\u001b[1;32m   5264\u001b[0m \n\u001b[0;32m   (...)\u001b[0m\n\u001b[1;32m   5397\u001b[0m \u001b[38;5;124;03m            weight  1.0     0.8\u001b[39;00m\n\u001b[1;32m   5398\u001b[0m \u001b[38;5;124;03m    \"\"\"\u001b[39;00m\n\u001b[0;32m-> 5399\u001b[0m     \u001b[38;5;28;01mreturn\u001b[39;00m \u001b[38;5;28msuper\u001b[39m()\u001b[38;5;241m.\u001b[39mdrop(\n\u001b[1;32m   5400\u001b[0m         labels\u001b[38;5;241m=\u001b[39mlabels,\n\u001b[1;32m   5401\u001b[0m         axis\u001b[38;5;241m=\u001b[39maxis,\n\u001b[1;32m   5402\u001b[0m         index\u001b[38;5;241m=\u001b[39mindex,\n\u001b[1;32m   5403\u001b[0m         columns\u001b[38;5;241m=\u001b[39mcolumns,\n\u001b[1;32m   5404\u001b[0m         level\u001b[38;5;241m=\u001b[39mlevel,\n\u001b[1;32m   5405\u001b[0m         inplace\u001b[38;5;241m=\u001b[39minplace,\n\u001b[1;32m   5406\u001b[0m         errors\u001b[38;5;241m=\u001b[39merrors,\n\u001b[1;32m   5407\u001b[0m     )\n",
      "File \u001b[0;32m/usr/local/anaconda3/lib/python3.11/site-packages/pandas/util/_decorators.py:331\u001b[0m, in \u001b[0;36mdeprecate_nonkeyword_arguments.<locals>.decorate.<locals>.wrapper\u001b[0;34m(*args, **kwargs)\u001b[0m\n\u001b[1;32m    325\u001b[0m \u001b[38;5;28;01mif\u001b[39;00m \u001b[38;5;28mlen\u001b[39m(args) \u001b[38;5;241m>\u001b[39m num_allow_args:\n\u001b[1;32m    326\u001b[0m     warnings\u001b[38;5;241m.\u001b[39mwarn(\n\u001b[1;32m    327\u001b[0m         msg\u001b[38;5;241m.\u001b[39mformat(arguments\u001b[38;5;241m=\u001b[39m_format_argument_list(allow_args)),\n\u001b[1;32m    328\u001b[0m         \u001b[38;5;167;01mFutureWarning\u001b[39;00m,\n\u001b[1;32m    329\u001b[0m         stacklevel\u001b[38;5;241m=\u001b[39mfind_stack_level(),\n\u001b[1;32m    330\u001b[0m     )\n\u001b[0;32m--> 331\u001b[0m \u001b[38;5;28;01mreturn\u001b[39;00m func(\u001b[38;5;241m*\u001b[39margs, \u001b[38;5;241m*\u001b[39m\u001b[38;5;241m*\u001b[39mkwargs)\n",
      "File \u001b[0;32m/usr/local/anaconda3/lib/python3.11/site-packages/pandas/core/generic.py:4505\u001b[0m, in \u001b[0;36mNDFrame.drop\u001b[0;34m(self, labels, axis, index, columns, level, inplace, errors)\u001b[0m\n\u001b[1;32m   4503\u001b[0m \u001b[38;5;28;01mfor\u001b[39;00m axis, labels \u001b[38;5;129;01min\u001b[39;00m axes\u001b[38;5;241m.\u001b[39mitems():\n\u001b[1;32m   4504\u001b[0m     \u001b[38;5;28;01mif\u001b[39;00m labels \u001b[38;5;129;01mis\u001b[39;00m \u001b[38;5;129;01mnot\u001b[39;00m \u001b[38;5;28;01mNone\u001b[39;00m:\n\u001b[0;32m-> 4505\u001b[0m         obj \u001b[38;5;241m=\u001b[39m obj\u001b[38;5;241m.\u001b[39m_drop_axis(labels, axis, level\u001b[38;5;241m=\u001b[39mlevel, errors\u001b[38;5;241m=\u001b[39merrors)\n\u001b[1;32m   4507\u001b[0m \u001b[38;5;28;01mif\u001b[39;00m inplace:\n\u001b[1;32m   4508\u001b[0m     \u001b[38;5;28mself\u001b[39m\u001b[38;5;241m.\u001b[39m_update_inplace(obj)\n",
      "File \u001b[0;32m/usr/local/anaconda3/lib/python3.11/site-packages/pandas/core/generic.py:4546\u001b[0m, in \u001b[0;36mNDFrame._drop_axis\u001b[0;34m(self, labels, axis, level, errors, only_slice)\u001b[0m\n\u001b[1;32m   4544\u001b[0m         new_axis \u001b[38;5;241m=\u001b[39m axis\u001b[38;5;241m.\u001b[39mdrop(labels, level\u001b[38;5;241m=\u001b[39mlevel, errors\u001b[38;5;241m=\u001b[39merrors)\n\u001b[1;32m   4545\u001b[0m     \u001b[38;5;28;01melse\u001b[39;00m:\n\u001b[0;32m-> 4546\u001b[0m         new_axis \u001b[38;5;241m=\u001b[39m axis\u001b[38;5;241m.\u001b[39mdrop(labels, errors\u001b[38;5;241m=\u001b[39merrors)\n\u001b[1;32m   4547\u001b[0m     indexer \u001b[38;5;241m=\u001b[39m axis\u001b[38;5;241m.\u001b[39mget_indexer(new_axis)\n\u001b[1;32m   4549\u001b[0m \u001b[38;5;66;03m# Case for non-unique axis\u001b[39;00m\n\u001b[1;32m   4550\u001b[0m \u001b[38;5;28;01melse\u001b[39;00m:\n",
      "File \u001b[0;32m/usr/local/anaconda3/lib/python3.11/site-packages/pandas/core/indexes/base.py:6934\u001b[0m, in \u001b[0;36mIndex.drop\u001b[0;34m(self, labels, errors)\u001b[0m\n\u001b[1;32m   6932\u001b[0m \u001b[38;5;28;01mif\u001b[39;00m mask\u001b[38;5;241m.\u001b[39many():\n\u001b[1;32m   6933\u001b[0m     \u001b[38;5;28;01mif\u001b[39;00m errors \u001b[38;5;241m!=\u001b[39m \u001b[38;5;124m\"\u001b[39m\u001b[38;5;124mignore\u001b[39m\u001b[38;5;124m\"\u001b[39m:\n\u001b[0;32m-> 6934\u001b[0m         \u001b[38;5;28;01mraise\u001b[39;00m \u001b[38;5;167;01mKeyError\u001b[39;00m(\u001b[38;5;124mf\u001b[39m\u001b[38;5;124m\"\u001b[39m\u001b[38;5;132;01m{\u001b[39;00m\u001b[38;5;28mlist\u001b[39m(labels[mask])\u001b[38;5;132;01m}\u001b[39;00m\u001b[38;5;124m not found in axis\u001b[39m\u001b[38;5;124m\"\u001b[39m)\n\u001b[1;32m   6935\u001b[0m     indexer \u001b[38;5;241m=\u001b[39m indexer[\u001b[38;5;241m~\u001b[39mmask]\n\u001b[1;32m   6936\u001b[0m \u001b[38;5;28;01mreturn\u001b[39;00m \u001b[38;5;28mself\u001b[39m\u001b[38;5;241m.\u001b[39mdelete(indexer)\n",
      "\u001b[0;31mKeyError\u001b[0m: \"['intercept'] not found in axis\""
     ]
    }
   ],
   "source": [
    "X = X.drop('intercept', axis=1)\n",
    "Xs = X - X.mean(0)[None,:]\n",
    "X_scale = X.std(0)\n",
    "Xs = Xs / X_scale[None,:]\n",
    "lambdas = 10**np.linspace(8, -3, 100) / Y.std()\n",
    "# print(Xs)\n",
    "soln_array = skl.ElasticNet.path(Xs,\n",
    "                                 Y,\n",
    "                                 l1_ratio=0.,\n",
    "                                 alphas=lambdas)[1]\n",
    "soln_path = pd.DataFrame(soln_array.T,\n",
    "                         columns=Data.columns,\n",
    "                         index=-np.log(lambdas))\n",
    "soln_path.index.name = 'negative log(lambda)'\n",
    "soln_path"
   ]
  },
  {
   "cell_type": "markdown",
   "id": "19e1265b-b0df-46bc-8838-292f60bddbf8",
   "metadata": {},
   "source": [
    "#### (c) Fit a LASSO model on the training set, with λ chosen by cross-validation on a dense grid similar to the example solved in the class. Report the test error obtained, along with the number of non-zero coefficient estimates."
   ]
  },
  {
   "cell_type": "code",
   "execution_count": null,
   "id": "a523373c-c32b-4e83-9e62-bf2c20452633",
   "metadata": {},
   "outputs": [],
   "source": [
    "# 5-Fold\n",
    "lasso_model = LassoCV(alphas=lambdas, cv=5).fit(X_train, y_train)\n",
    "\n",
    "y_pred_lasso = lasso_model.predict(X_test)\n",
    "\n",
    "mse_lasso = mean_squared_error(y_test, y_pred_lasso)\n",
    "# print(lasso_model.coef_)\n",
    "non_zero_coefficients = np.sum(lasso_model.coef_ != 0)\n",
    "\n",
    "print('Best lambda LASSO:', lasso_model.alpha_)\n",
    "print('MSE LASSO:', mse_lasso)\n",
    "print('How many non-zero coefficient estimates: ', non_zero_coefficients)"
   ]
  },
  {
   "cell_type": "code",
   "execution_count": null,
   "id": "f93cc2ba-eda0-4a33-bfc5-cd80b4bfb3dc",
   "metadata": {},
   "outputs": [],
   "source": [
    "# Xs = X - np.mean(X, axis = 0)[None,:]\n",
    "# Xs = X - np.mean(X, axis=0, keepdims=True)\n",
    "# kfold = skm.KFold(5, random_state=0, shuffle=True)\n",
    "# scaler = StandardScaler(with_mean=True,  with_std=True)\n",
    "\n",
    "# lassoCV = skl.ElasticNetCV(n_alphas=100, l1_ratio=1, cv=kfold)\n",
    "# pipeCV = Pipeline(steps=[('scaler', scaler), ('lasso', lassoCV)])\n",
    "# pipeCV.fit(X, Y)\n",
    "# tuned_lasso = pipeCV.named_steps['lasso']\n",
    "# print(tuned_lasso.alpha_) #printing the lambda that yields the smallest CV error\n",
    "\n",
    "\n",
    "# lambdas, soln_array = skl.Lasso.path(Xs, Y, l1_ratio=1, n_alphas=100)[:2]\n",
    "# soln_path = pd.DataFrame(soln_array.T, columns=X.columns, index=-np.log(lambdas))"
   ]
  },
  {
   "cell_type": "markdown",
   "id": "2687e40e-ad9e-4bf7-a6a0-9f66fc7a98f5",
   "metadata": {},
   "source": [
    "#### (d) Compare the results of (a), (b), and (c). Which one seems to outperform the others for this specific setup?\n",
    "\n",
    "#### In this case, the Linear Model got the lowest MSE compared to Ridge and LASSO. The Ridge model is pretty close but got a slightly higher MSE. The LASSO has 2 non-dropped features and the highest MSE of the three models, which means that too many constraints or regularization led to underfitting."
   ]
  },
  {
   "cell_type": "code",
   "execution_count": null,
   "id": "20bfc0a7-cf95-4bf2-a756-19125d852583",
   "metadata": {},
   "outputs": [],
   "source": [
    "ridgeCV = skl.ElasticNetCV(alphas=lambdas, \n",
    "                           l1_ratio=0,\n",
    "                           # tol = 0.01,\n",
    "                           cv=KFold(5, random_state=0, shuffle=True))\n",
    "pipeCV = Pipeline(steps=[('scaler', scaler),\n",
    "                         ('ridge', ridgeCV)])\n",
    "pipeCV.fit(X_train, y_train)\n",
    "# print('lambda:', ridgeCV.alpha_)\n",
    "# print(X)\n",
    "# print('coef:', ridgeCV.coef_)\n",
    "# print('intercept:', ridgeCV.intercept_)\n",
    "# print('mse_ridge:', np.mean(ridgeCV.mse_path_))"
   ]
  }
 ],
 "metadata": {
  "kernelspec": {
   "display_name": "Python 3 (ipykernel)",
   "language": "python",
   "name": "python3"
  },
  "language_info": {
   "codemirror_mode": {
    "name": "ipython",
    "version": 3
   },
   "file_extension": ".py",
   "mimetype": "text/x-python",
   "name": "python",
   "nbconvert_exporter": "python",
   "pygments_lexer": "ipython3",
   "version": "3.11.7"
  }
 },
 "nbformat": 4,
 "nbformat_minor": 5
}
